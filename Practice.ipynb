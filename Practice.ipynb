{
  "cells": [
    {
      "cell_type": "markdown",
      "metadata": {
        "id": "view-in-github",
        "colab_type": "text"
      },
      "source": [
        "<a href=\"https://colab.research.google.com/github/KamruzzamanSelim/python-fun/blob/main/Practice.ipynb\" target=\"_parent\"><img src=\"https://colab.research.google.com/assets/colab-badge.svg\" alt=\"Open In Colab\"/></a>"
      ]
    },
    {
      "cell_type": "code",
      "execution_count": null,
      "metadata": {
        "id": "TstZ5ssmtj1M"
      },
      "outputs": [],
      "source": [
        "#add two numbers\n",
        "def add(a,b):\n",
        "    return print('Sum is:',a+b)"
      ]
    },
    {
      "cell_type": "code",
      "source": [
        "sum(1,2)"
      ],
      "metadata": {
        "colab": {
          "base_uri": "https://localhost:8080/"
        },
        "id": "OBA7UoitMez_",
        "outputId": "28a18bbd-109d-4393-9c10-72497fd11ef5"
      },
      "execution_count": null,
      "outputs": [
        {
          "output_type": "stream",
          "name": "stdout",
          "text": [
            "Sum is: 3\n"
          ]
        }
      ]
    },
    {
      "cell_type": "code",
      "source": [
        "a = [1,2,3,4,5,6]"
      ],
      "metadata": {
        "id": "7Nl9phIlMr58"
      },
      "execution_count": null,
      "outputs": []
    },
    {
      "cell_type": "code",
      "source": [
        "type(a)"
      ],
      "metadata": {
        "colab": {
          "base_uri": "https://localhost:8080/"
        },
        "id": "xRDkrSN9QQOE",
        "outputId": "0ec0ae32-505d-4927-a4b6-078ee32a93aa"
      },
      "execution_count": null,
      "outputs": [
        {
          "output_type": "execute_result",
          "data": {
            "text/plain": [
              "list"
            ]
          },
          "metadata": {},
          "execution_count": 15
        }
      ]
    },
    {
      "cell_type": "code",
      "source": [
        "\n",
        "#sum of list\n",
        "def add(x):\n",
        "    sum = 0\n",
        "    i =0\n",
        "    while i<len(x):\n",
        "       sum += x[i]\n",
        "       i = i+1\n",
        "    return sum"
      ],
      "metadata": {
        "id": "dITceDXMNxeM"
      },
      "execution_count": null,
      "outputs": []
    },
    {
      "cell_type": "code",
      "source": [
        "add(a)"
      ],
      "metadata": {
        "colab": {
          "base_uri": "https://localhost:8080/"
        },
        "id": "Bw-y_8wdOqbL",
        "outputId": "090551d4-d730-4d02-a70c-e35885c168cb"
      },
      "execution_count": null,
      "outputs": [
        {
          "output_type": "execute_result",
          "data": {
            "text/plain": [
              "21"
            ]
          },
          "metadata": {},
          "execution_count": 23
        }
      ]
    },
    {
      "cell_type": "code",
      "source": [
        "#mean\n",
        "def mean(x):\n",
        "    sum = 0\n",
        "    i = 0\n",
        "    m = 0\n",
        "    while i<len(x):\n",
        "        sum = sum + x[i]\n",
        "        i = i + 1\n",
        "    m = sum/len(x)\n",
        "    return m"
      ],
      "metadata": {
        "id": "YNmccdhORd-D"
      },
      "execution_count": null,
      "outputs": []
    },
    {
      "cell_type": "code",
      "source": [
        "mean (a)"
      ],
      "metadata": {
        "colab": {
          "base_uri": "https://localhost:8080/"
        },
        "id": "tUSIAidhW0_T",
        "outputId": "49de7c89-0877-4835-a223-8d460f3ed7ea"
      },
      "execution_count": null,
      "outputs": [
        {
          "output_type": "execute_result",
          "data": {
            "text/plain": [
              "3.5"
            ]
          },
          "metadata": {},
          "execution_count": 54
        }
      ]
    },
    {
      "cell_type": "code",
      "source": [
        "len(a)"
      ],
      "metadata": {
        "colab": {
          "base_uri": "https://localhost:8080/"
        },
        "id": "5a8gHYiWYvpJ",
        "outputId": "c70f6a52-60f1-4c12-a9b0-c68b9f342276"
      },
      "execution_count": null,
      "outputs": [
        {
          "output_type": "execute_result",
          "data": {
            "text/plain": [
              "6"
            ]
          },
          "metadata": {},
          "execution_count": 49
        }
      ]
    },
    {
      "cell_type": "code",
      "source": [
        "from datetime import date\n",
        "print(\"Today's date is: \"+str(date.today()))"
      ],
      "metadata": {
        "colab": {
          "base_uri": "https://localhost:8080/"
        },
        "id": "6V1Ayu6tGz0h",
        "outputId": "1dcadf61-b936-430f-bd4f-81e63e6d084a"
      },
      "execution_count": null,
      "outputs": [
        {
          "output_type": "stream",
          "name": "stdout",
          "text": [
            "Today's date is: 2024-12-21\n"
          ]
        }
      ]
    },
    {
      "cell_type": "code",
      "source": [
        "parsec = int(input())\n",
        "print(str(parsec)+\" parsec is \"+ str(parsec*3.26)+\" lightyears\")"
      ],
      "metadata": {
        "colab": {
          "base_uri": "https://localhost:8080/"
        },
        "id": "SrgFyqsnJRxS",
        "outputId": "2a52fa82-5882-4d1a-93a6-d00b37d4cb4c"
      },
      "execution_count": null,
      "outputs": [
        {
          "output_type": "stream",
          "name": "stdout",
          "text": [
            "12\n",
            "12 parsec is 39.12 lightyears\n"
          ]
        }
      ]
    },
    {
      "cell_type": "code",
      "source": [
        "import pandas as pd\n",
        "df = [['a',1],['b',2]]\n",
        "df = pd.DataFrame(df, columns = ['X','Y'])"
      ],
      "metadata": {
        "id": "7-FE7Gq9P4k-"
      },
      "execution_count": null,
      "outputs": []
    },
    {
      "cell_type": "code",
      "source": [
        "list(df.shape)"
      ],
      "metadata": {
        "colab": {
          "base_uri": "https://localhost:8080/"
        },
        "id": "WUBagQW5zUVK",
        "outputId": "3c0ecf27-c961-49d5-9db7-48df212e8c05"
      },
      "execution_count": null,
      "outputs": [
        {
          "output_type": "execute_result",
          "data": {
            "text/plain": [
              "[2, 2]"
            ]
          },
          "metadata": {},
          "execution_count": 33
        }
      ]
    },
    {
      "cell_type": "code",
      "source": [
        "players_data = {\n",
        "    \"player_id\": [846, 749, 155, 583, 388, 883, 355, 247, 761, 642],\n",
        "    \"name\": [\"Mason\", \"Riley\", \"Bob\", \"Isabella\", \"Zachary\", \"Ava\", \"Violet\", \"Thomas\", \"Jack\", \"Charlie\"],\n",
        "    \"age\": [21, 30, 28, 32, 24, 23, 18, 27, 33, 36],\n",
        "    \"position\": [\"Forward\", \"Winger\", \"Striker\", \"Goalkeeper\", \"Midfielder\", \"Defender\", \"Striker\", \"Striker\", \"Midfielder\", \"Center-back\"],\n",
        "    \"team\": [\"RealMadrid\", \"Barcelona\", \"ManchesterUnited\", \"Liverpool\", \"BayernMunich\", \"Chelsea\", \"Juventus\", \"ParisSaint-Germain\", \"ManchesterCity\", \"Arsenal\"]\n",
        "}"
      ],
      "metadata": {
        "id": "sQY-jLBA5e_D"
      },
      "execution_count": null,
      "outputs": []
    },
    {
      "cell_type": "code",
      "source": [
        "x = 30123\n",
        "temp = x\n",
        "reverse = 0\n",
        "while (temp != 0):\n",
        "    reverse = (reverse * 10) + (temp % 10);\n",
        "    print(reverse)\n",
        "    temp = temp // 10"
      ],
      "metadata": {
        "id": "ZTGmDRAW5jXl"
      },
      "execution_count": null,
      "outputs": []
    },
    {
      "cell_type": "code",
      "source": [
        "\n",
        "#Check if a number is Palindrome number\n",
        "def isPalindrome(x):\n",
        "  if x>0:\n",
        "      temp = x\n",
        "      reverse = 0\n",
        "      while (temp != 0):\n",
        "          reverse = (reverse * 10) + (temp % 10);\n",
        "          temp = temp // 10\n",
        "      return (reverse == x)\n",
        "  elif x==0:\n",
        "      return True\n",
        "  else:\n",
        "      return False\n",
        "\n",
        "isPalindrome(0)"
      ],
      "metadata": {
        "colab": {
          "base_uri": "https://localhost:8080/"
        },
        "id": "Oix7NGRaGYcB",
        "outputId": "00465dd5-eed5-4885-9bd2-160d05e37ac1"
      },
      "execution_count": 1,
      "outputs": [
        {
          "output_type": "execute_result",
          "data": {
            "text/plain": [
              "True"
            ]
          },
          "metadata": {},
          "execution_count": 1
        }
      ]
    },
    {
      "cell_type": "code",
      "source": [
        "reverse"
      ],
      "metadata": {
        "colab": {
          "base_uri": "https://localhost:8080/"
        },
        "id": "mcWY3tO5IdMx",
        "outputId": "3a0cc7ba-3450-43c6-e75a-ade6ab9985a9"
      },
      "execution_count": null,
      "outputs": [
        {
          "output_type": "execute_result",
          "data": {
            "text/plain": [
              "32103"
            ]
          },
          "metadata": {},
          "execution_count": 186
        }
      ]
    }
  ],
  "metadata": {
    "colab": {
      "provenance": [],
      "authorship_tag": "ABX9TyM5N9ecluAZ2CKOzUfLfgnl",
      "include_colab_link": true
    },
    "kernelspec": {
      "display_name": "Python 3",
      "name": "python3"
    },
    "language_info": {
      "name": "python"
    }
  },
  "nbformat": 4,
  "nbformat_minor": 0
}